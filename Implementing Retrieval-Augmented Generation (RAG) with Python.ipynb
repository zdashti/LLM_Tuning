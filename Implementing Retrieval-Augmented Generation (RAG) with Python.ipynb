{
 "cells": [
  {
   "cell_type": "code",
   "execution_count": 9,
   "metadata": {
    "colab": {
     "base_uri": "https://localhost:8080/"
    },
    "id": "Tl_M3BJpgVVn",
    "outputId": "301c0000-c4ca-46eb-d347-cc9cf01c0869"
   },
   "outputs": [
    {
     "name": "stderr",
     "output_type": "stream",
     "text": [
      "WARNING: langchain 0.3.27 does not provide the extra 'docarray'\n"
     ]
    }
   ],
   "source": [
    "!pip install transformers -q\n",
    "!pip install langchain[docarray]  -q\n",
    "!pip install docarray  -q\n",
    "!pip install pypdf  -q\n",
    "!pip install langchain_huggingface  -q\n",
    "!pip install bitsandbytes  -q\n",
    "!pip install langchain-community -q\n",
    "!pip install sentence-transformers -q"
   ]
  },
  {
   "cell_type": "code",
   "execution_count": 6,
   "metadata": {
    "colab": {
     "base_uri": "https://localhost:8080/",
     "height": 194,
     "referenced_widgets": [
      "35b191fd3b85405e91a60c9472ebd215",
      "50135fc29dee4733a545414bbf193be2",
      "30ef5cfd95c74b3d8d59407435ec67dc",
      "8e125145224a4a409ffaaa7db074fc34",
      "56954f3d493f4b1983120826f01f4a23",
      "45a923d3bf644244aa236bcda810991b",
      "a6c35e578064434c8f700611832f5a45",
      "898253d5f3ee449ba16dd3d00f8e8434",
      "be289233c9604a36b5bb3c42c46dbe79",
      "573aedbe53be4c218ed71c7129dce25b",
      "de7d2205a2044c4bacc80111b0c9c75c"
     ]
    },
    "id": "-HP97Hn9twCP",
    "outputId": "d7ef441c-f2f5-43fb-f52a-72dc1a657c21"
   },
   "outputs": [
    {
     "data": {
      "application/vnd.jupyter.widget-view+json": {
       "model_id": "04837d17903b45c9a529f9fc8e583175",
       "version_major": 2,
       "version_minor": 0
      },
      "text/plain": [
       "Loading checkpoint shards:   0%|          | 0/4 [00:00<?, ?it/s]"
      ]
     },
     "metadata": {},
     "output_type": "display_data"
    },
    {
     "data": {
      "application/vnd.jupyter.widget-view+json": {
       "model_id": "c8e0adbcebf445a9920b3526c1a9ee14",
       "version_major": 2,
       "version_minor": 0
      },
      "text/plain": [
       "generation_config.json:   0%|          | 0.00/190 [00:00<?, ?B/s]"
      ]
     },
     "metadata": {},
     "output_type": "display_data"
    },
    {
     "name": "stderr",
     "output_type": "stream",
     "text": [
      "Device set to use cuda:0\n"
     ]
    }
   ],
   "source": [
    "from transformers import AutoTokenizer, AutoModelForCausalLM, pipeline\n",
    "from transformers import BitsAndBytesConfig\n",
    "import torch\n",
    "\n",
    "bnb_config = BitsAndBytesConfig(\n",
    "    load_in_4bit=True,\n",
    "    bnb_4bit_use_double_quant=True,\n",
    "    bnb_4bit_compute_dtype=\"float16\",\n",
    "    bnb_4bit_quant_type=\"nf4\"\n",
    ")\n",
    "\n",
    "tokenizer = AutoTokenizer.from_pretrained(\"unsloth/gemma-2-9b-it\", use_fast=True)\n",
    "model = AutoModelForCausalLM.from_pretrained(\n",
    "    \"unsloth/gemma-2-9b-it\",\n",
    "    device_map=\"auto\",\n",
    "    quantization_config=bnb_config,\n",
    "    torch_dtype=torch.float16\n",
    ")\n",
    "\n",
    "text_gen = pipeline(\n",
    "    \"text-generation\",\n",
    "    model=model,\n",
    "    tokenizer=tokenizer,\n",
    "    max_new_tokens=64\n",
    ")"
   ]
  },
  {
   "cell_type": "code",
   "execution_count": 26,
   "metadata": {
    "colab": {
     "base_uri": "https://localhost:8080/"
    },
    "id": "oe6C0FOsmEFL",
    "outputId": "65238c0d-bcf4-40f9-f692-57bd1c7ad5a3"
   },
   "outputs": [
    {
     "name": "stderr",
     "output_type": "stream",
     "text": [
      "No sentence-transformers model found with name sbunlp/fabert. Creating a new one with mean pooling.\n",
      "Some weights of BertModel were not initialized from the model checkpoint at sbunlp/fabert and are newly initialized: ['pooler.dense.bias', 'pooler.dense.weight']\n",
      "You should probably TRAIN this model on a down-stream task to be able to use it for predictions and inference.\n"
     ]
    }
   ],
   "source": [
    "from langchain_huggingface import HuggingFaceEmbeddings\n",
    "\n",
    "\n",
    "embedding_name = 'sbunlp/fabert'\n",
    "embeddings = HuggingFaceEmbeddings(\n",
    "    model_name=embedding_name,\n",
    "    # model_kwargs={\"trust_remote_code\": True},\n",
    ")"
   ]
  },
  {
   "cell_type": "code",
   "execution_count": 15,
   "metadata": {
    "id": "f6WOmapugVVo"
   },
   "outputs": [],
   "source": [
    "from langchain_huggingface.llms import HuggingFacePipeline\n",
    "\n",
    "llm = HuggingFacePipeline(pipeline=text_gen)\n",
    "\n",
    "def apply_chat_template_and_response(prompt):\n",
    "    messages = [\n",
    "    {'role': 'user', 'content': prompt}\n",
    "    ]\n",
    "\n",
    "    text = tokenizer.apply_chat_template(\n",
    "        messages,\n",
    "        tokenize=False,\n",
    "        add_generation_prompt=True,\n",
    "        enable_thinking=False\n",
    "    )\n",
    "\n",
    "    return llm.invoke(text).replace(text, '')"
   ]
  },
  {
   "cell_type": "code",
   "execution_count": 16,
   "metadata": {
    "colab": {
     "base_uri": "https://localhost:8080/"
    },
    "id": "aKyNd40qgVVq",
    "outputId": "62b0115b-7e38-4939-8d40-6426e44a2377"
   },
   "outputs": [
    {
     "name": "stderr",
     "output_type": "stream",
     "text": [
      "C:\\Users\\GitiAI\\anaconda3\\envs\\py310\\lib\\site-packages\\transformers\\integrations\\sdpa_attention.py:96: UserWarning: 1Torch was not compiled with flash attention. (Triggered internally at ..\\aten\\src\\ATen\\native\\transformers\\cuda\\sdp_utils.cpp:455.)\n",
      "  attn_output = torch.nn.functional.scaled_dot_product_attention(\n"
     ]
    },
    {
     "name": "stdout",
     "output_type": "stream",
     "text": [
      "من Gemma هستم، یک مدل زبان بزرگ هسته باز.\n",
      "\n"
     ]
    }
   ],
   "source": [
    "print(apply_chat_template_and_response(\"اسمت چیه؟\"))"
   ]
  },
  {
   "cell_type": "code",
   "execution_count": 17,
   "metadata": {
    "colab": {
     "base_uri": "https://localhost:8080/"
    },
    "id": "jH06VO3kgVVq",
    "outputId": "cdace1be-99af-4f57-8447-722de58d69db"
   },
   "outputs": [
    {
     "name": "stdout",
     "output_type": "stream",
     "text": [
      "**\"چشمتان بَرِ بادِ امید باشد تا دلتان بَرِ دریای محبت.\"**\n",
      "\n",
      "**Pronunciation:**\n",
      "\n",
      "cheshmatan bare badi omid bashad ta deltan barey daryaye mohabat\n",
      "\n",
      "**Translation:**\n",
      "\n",
      "May your eyes be filled with the\n"
     ]
    }
   ],
   "source": [
    "from langchain_core.output_parsers import StrOutputParser\n",
    "\n",
    "parser = StrOutputParser()\n",
    "response_from_model = apply_chat_template_and_response(\"Give me an inspirational quote in persian\")\n",
    "parsed_response = parser.parse(response_from_model)\n",
    "print(parsed_response)"
   ]
  },
  {
   "cell_type": "code",
   "execution_count": 20,
   "metadata": {
    "colab": {
     "base_uri": "https://localhost:8080/",
     "height": 106
    },
    "id": "GRrhZ4vegVVq",
    "outputId": "4442c0cb-3334-4b2b-8bc0-9359554a0771"
   },
   "outputs": [
    {
     "data": {
      "text/plain": [
       "'\\nYou are a helpful and knowledgeable AI assistant. Use only the information retrieved from the documents to answer the user\\'s question in Persian (Farsi). If the answer is not found in the retrieved context, respond with: \"متاسفانه اطلاعاتی در این مورد ندارم.\" Do not use your own knowledge beyond the provided context. Be accurate, clear, and polite. Never mention the documents or the retrieval process in your response. Just respond naturally in Persian.\\nContext: Here is some context\\n\\nQuestion: Here is a question\\n\\nAnswer:\\n\\n'"
      ]
     },
     "execution_count": 20,
     "metadata": {},
     "output_type": "execute_result"
    }
   ],
   "source": [
    "from langchain.prompts import PromptTemplate\n",
    "\n",
    "template = \"\"\"\n",
    "You are a helpful and knowledgeable AI assistant. Use only the information retrieved from the documents to answer the user's question in Persian (Farsi). If the answer is not found in the retrieved context, respond with: \"متاسفانه اطلاعاتی در این مورد ندارم.\" Do not use your own knowledge beyond the provided context. Be accurate, clear, and polite. Never mention the documents or the retrieval process in your response. Just respond naturally in Persian.\n",
    "Context: {context}\n",
    "\n",
    "Question: {question}\n",
    "\n",
    "Answer:\n",
    "\n",
    "\"\"\"\n",
    "\n",
    "prompt = PromptTemplate.from_template(template)\n",
    "prompt.format(context=\"Here is some context\", question=\"Here is a question\")"
   ]
  },
  {
   "cell_type": "code",
   "execution_count": 21,
   "metadata": {
    "colab": {
     "base_uri": "https://localhost:8080/"
    },
    "id": "MfhbsTk_gVVq",
    "outputId": "a7b789a7-7ee8-4f32-811d-a76e13b6e8d0"
   },
   "outputs": [
    {
     "name": "stdout",
     "output_type": "stream",
     "text": [
      "زهرا \n",
      "\n"
     ]
    }
   ],
   "source": [
    "context = \"من زهرا هستم و تهران زندگی میکنم.\"\n",
    "formatted_prompt = prompt.format(context = context, question=\"اسم من چیه؟\")\n",
    "response_from_model = apply_chat_template_and_response(formatted_prompt)\n",
    "parsed_response = parser.parse(response_from_model)\n",
    "print(parsed_response.replace(formatted_prompt, \"\"))"
   ]
  },
  {
   "cell_type": "code",
   "execution_count": 22,
   "metadata": {
    "colab": {
     "base_uri": "https://localhost:8080/"
    },
    "id": "NFKMvtX0gVVq",
    "outputId": "38b04d23-9743-4e17-e6da-a1f85bbfbd36"
   },
   "outputs": [
    {
     "name": "stdout",
     "output_type": "stream",
     "text": [
      "متاسفانه اطلاعاتی در این مورد ندارم. \n",
      "\n"
     ]
    }
   ],
   "source": [
    "formatted_prompt = prompt.format(context=context, question=\"من چند سالمه؟\")\n",
    "response_from_model = apply_chat_template_and_response(formatted_prompt)\n",
    "parsed_response = parser.parse(response_from_model)\n",
    "print(parsed_response.replace(formatted_prompt, \"\"))"
   ]
  },
  {
   "cell_type": "code",
   "execution_count": 23,
   "metadata": {
    "colab": {
     "base_uri": "https://localhost:8080/"
    },
    "id": "cw7NxO3g03od",
    "outputId": "0b7660c1-da8e-485d-f36e-ca14a61001b2"
   },
   "outputs": [
    {
     "name": "stderr",
     "output_type": "stream",
     "text": [
      "  % Total    % Received % Xferd  Average Speed   Time    Time     Time  Current\n",
      "                                 Dload  Upload   Total   Spent    Left  Speed\n",
      "\n",
      "  0     0    0     0    0     0      0      0 --:--:-- --:--:-- --:--:--     0\n",
      "  0     0    0     0    0     0      0      0 --:--:-- --:--:-- --:--:--     0\n",
      "100 30134    0 30134    0     0  28057      0 --:--:--  0:00:01 --:--:-- 28057\n",
      "100  179k    0  179k    0     0   131k      0 --:--:--  0:00:01 --:--:--  131k\n"
     ]
    }
   ],
   "source": [
    "!curl -L -o  sample_doc.pdf \"https://github.com/zdashti/testdoc/blob/main/CreativeThinking.pdf\""
   ]
  },
  {
   "cell_type": "code",
   "execution_count": 24,
   "metadata": {
    "colab": {
     "base_uri": "https://localhost:8080/"
    },
    "id": "is_mM6rTgVVr",
    "outputId": "fd5d65f1-a1f2-4fa7-e973-645b1a4e25ab"
   },
   "outputs": [
    {
     "data": {
      "text/plain": [
       "[Document(metadata={'producer': 'Microsoft® Word LTSC', 'creator': 'Microsoft® Word LTSC', 'creationdate': '2025-10-11T09:27:35+03:30', 'author': 'GitiAI', 'moddate': '2025-10-11T09:27:35+03:30', 'source': 'CreativeThinking.pdf', 'total_pages': 3, 'page': 0, 'page_label': '1'}, page_content='تفکر خلاق و نقش آن در پیشرفت انسان \\nتفکر خلاق، یکی از ارزشمندترین تواناییهای ذهن انسان است؛ قابلیتی که باعث می شود ما بتوانیم از مرزهای عادی فکر کردن عبور کنیم و \\nراهحلهایی تازه برای مسائل پیدا کنیم. انسان از ابتدای تاریخ، به واسطه ی همین قدرت تفکر خلاق توانسته است ابزار بسازد، فناوری خلق کند، \\nو جهان پیرامون خود را دگرگون سازد . \\nاما خلاقیت تنها به هنرمندان یا مخترعان محدود نیست. در واقع، هر فردی در زندگی روزمره خود نیازمند تفکر خلاق است؛ از حل مشکلات  \\nشخصی گرفته تا تصمیمگیریهای کاری و اجتماعی. خلاقیت یعنی دیدن چیزها از زاویه ای متفاوت، شکستن عادتهای فکری و تصور چیزی \\nکه هنوز وجود ندارد. \\n \\nخلاقیت ذاتی است یا اکتسابی؟ \\nبسیاری از مردم تصور میکنند که خلاقیت فقط در وجود عدهای خاص نهفته است، اما پژوهش های روانشناسی نشان دادهاند که همه ی \\nانسانها از نوعی ظرفیت خلاق برخوردارند. تفاوت در این است که برخی افراد این توانایی را پرورش می دهند، در حالی که دیگران اجازه  \\nمیدهند عادتهای فکری روزمره آن را سرکوب کند. \\nتفکر خلاق مهارتی است که می توان آن را آموزش داد و تقویت کرد. مطالعه، تجربه ی موقعیتهای جدید، تعامل با افراد متفاوت، و حتی  \\nشکست خوردن در پروژه ها، همه باعث رشد خلاقیت میشوند. ذهن خلاق معمولاً از دل کنجکاوی و ریسکپذیری زاده میشود. \\n \\nموانع خلاقیت  \\nیکی از بزرگترین دشمنان خلاقیت، ترس از اشتباه است. بسیاری از افراد به دلیل نگرانی از قضاوت دیگران، ایدههای خود را بیان نمی کنند. در \\nحالی که بخش بزرگی از فرآیند خلاقیت، شامل آزمون و خطاست. ایدههای بزرگ معمولاً از دل شکست های متعدد بیرون می آیند. \\nعامل دیگر، محیط بسته و غیرانعطاف پذیر است. وقتی در محیطی کار یا زندگی میکنیم که در آن تفاوت نظرها پذیرفته نمیشود، ذهن به مرور  \\nحالت تدافعی میگیرد و از نوآوری دور میشود. برای شکوفایی خلاقیت، باید در فضایی بود که آزادی اندیشه و گفت وگو وجود داشته باشد. \\n \\nراهکارهای پرورش تفکر خلاق  \\n۱ .پرسیدن سؤال های جدید: به جای اینکه صرفاً پاسخها را حفظ کنیم، باید یاد بگیریم سؤالهای تازه مطرح کنیم. هر سؤال جدید \\nمیتواند دیدگاهی متفاوت ایجاد کند. \\n۲ .تجربهی مسیرهای ناآشنا: گاهی انجام کارهایی متفاوت، حتی ساده مثل رفتن از مسیر دیگر به محل کار، میتواند ذهن را فعالتر کند. \\n۳ .نوشتن ایده ها: ذهن انسان فرّار است. یادداشت کردن افکار باعث میشود ایدهها ماندگار شوند و بعدها قابل گسترش باشند.'),\n",
       " Document(metadata={'producer': 'Microsoft® Word LTSC', 'creator': 'Microsoft® Word LTSC', 'creationdate': '2025-10-11T09:27:35+03:30', 'author': 'GitiAI', 'moddate': '2025-10-11T09:27:35+03:30', 'source': 'CreativeThinking.pdf', 'total_pages': 3, 'page': 1, 'page_label': '2'}, page_content='۴ .الهام گرفتن از دیگران: مطالعه دربارهی زندگی نوآوران، هنرمندان و دانشمندان می تواند مسیر خلاقیت را هموارتر کند. \\n۵ .استراحت ذهنی: خلاقیت معمولاً در لحظاتی که ذهن آزاد است شکوفا میشود؛ مثل زمان پیادهروی یا قبل از خواب. \\n \\nخلاقیت در زندگی و کار  \\nدر دنیای امروز، خلاقیت یکی از مهمترین مهارتهای قرن بیستویکم محسوب میشود. شرکت ها و سازمانهای بزرگ به دنبال افرادی هستند \\nکه بتوانند فراتر از چارچوبها فکر کنند. \\nدر حوزهی کارآفرینی، تفکر خلاق پایهی اصلی نوآوری است؛ بسیاری از استارتاپهای موفق از ایدههایی آغاز شدهاند که در ابتدا ساده و حتی  \\nعجیب به نظر می رسیدند. \\nدر زندگی شخصی نیز، خلاقیت نقش پررنگی دارد. از طراحی دکور منزل گرفته تا حل تعارض های خانوادگی، ذهن خلاق می تواند راه هایی ارائه  \\nدهد که شاید در نگاه اول غیرممکن به نظر برسند. \\n \\nنتیجهگیری \\nتفکر خلاق نه فقط یک ویژگی ذهنی، بلکه یک شیوه ی زندگی است. انسانی که خلاق می اندیشد، در برابر مشکلات تسلیم نمیشود و همیشه  \\nبه دنبال راه های تازه میگردد. \\nخلاقیت یعنی ایمان به اینکه همیشه راهی هست—even اگر هنوز پیدایش نکرده باشیم. \\nبا پرورش خلاقیت، نه تنها میتوانیم کیفیت زندگی خود را ارتقا دهیم، بلکه سهمی در پیشرفت جامعه و آیندهی بهتر نیز داشته باشیم. \\nنقش آموزش در پرورش خلاقیت \\nنظامهای آموزشی سنتی معمولاً بر حفظ کردن مطالب و تکرار مفاهیم تأکید دارند، نه بر کشف و تجربه. این در حالی است که یکی از وظایف  \\nمهم آموزش، فراهم کردن بستر رشد تفکر خلاق در دانش آموزان و دانشجویان است. \\nوقتی معلم به جای پرسیدن پاسخ درست، از دانش آموز بخواهد چند پاسخ ممکن پیشنهاد دهد، ذهن او به تدریج از حالت بسته به حالت باز تغییر  \\nمیکند. \\nآموزش خلاق، یعنی تشویق به پرسش، به تخیل و به تجربه کردن—even اگر نتیجه دقیقاً همان چیزی نباشد که انتظار میرفت. \\nدانش آموزی که از کودکی میآموزد آزادانه فکر کند و نظرش را بیان کند، در بزرگسالی نیز اعتمادبه نفس بیشتری برای خلق ایده های جدید  \\nخواهد داشت. \\nبنابراین، اصلاح روش های آموزشی و تقویت روحیه ی خلاقیت در مدارس و دانشگاهها، یکی از مهمترین سرمایهگذاریهای هر جامعه است. \\n \\nخلاقیت و فناوری'),\n",
       " Document(metadata={'producer': 'Microsoft® Word LTSC', 'creator': 'Microsoft® Word LTSC', 'creationdate': '2025-10-11T09:27:35+03:30', 'author': 'GitiAI', 'moddate': '2025-10-11T09:27:35+03:30', 'source': 'CreativeThinking.pdf', 'total_pages': 3, 'page': 2, 'page_label': '3'}, page_content='پیشرفتهای شگرف دنیای فناوری، خود نتیجه ی تفکر خلاق بشر است؛ اما در عین حال، فناوری نیز میتواند زمینهساز رشد خلاقیت شود.  \\nابزارهای دیجیتال امروز، از هوش مصنوعی گرفته تا چاپ سه بعدی، امکاناتی فراهم کردهاند که پیش از این غیرقابل تصور بود. \\nبا این حال، استفاده ی صرف از فناوری به معنی خلاق بودن نیست. خلاقیت در نحوه ی به کارگیری آن است. کسی که بتواند از ابزارهای \\nدیجیتال برای حل مسائل واقعی یا خلق تجربه های جدید استفاده کند، در واقع جوهرهی تفکر خلاق را در خود پرورش داده است. \\nفناوری تنها زمانی ارزشمند است که در خدمت ایدههای نو و انسان محور باشد. \\n \\nخلاقیت در فرهنگ و جامعه \\nخلاقیت فقط در حوزه ی علم و فناوری معنا ندارد؛ در فرهنگ، هنر، روابط اجتماعی و حتی سیاست نیز نقش تعیینکنندهای دارد. \\nجامعهای که به تفاوت اندیشه ها احترام میگذارد، زمینه ی شکوفایی خلاقیت جمعی را فراهم می کند. در چنین جامعهای، مردم به جای تقلید،  \\nتشویق میشوند تا تجربه کنند، آزمایش کنند و مسیرهای تازهای بسازند. \\nفرهنگ خلاقیت محور، تحمل شکست را هم در خود دارد. جامعه ای که شکست را پایان راه نمی داند، بلکه آن را بخشی از مسیر رشد تلقی  \\nمیکند، زودتر به نوآوری های پایدار میرسد. \\n \\nجمع بندی نهایی \\nدر نهایت، تفکر خلاق جوهرهی انسانِ جستوجوگر است. بدون آن، تمدن بشری در همان نقطه ی نخستین متوقف میشد. \\nهر فردی در درون خود جرقهای از خلاقیت دارد؛ کافی است اجازه دهد این جرقه شعله ور شود. \\nدنیا به افرادی نیاز دارد که بتوانند با ذهنی باز، دنیایی بهتر را تصور و سپس آن را بسازند. \\nتفکر خلاق، پلی است میان رؤیا و واقعیت — پلی که عبور از آن،  نیازمند شهامت، تخیل و ایمان است .')]"
      ]
     },
     "execution_count": 24,
     "metadata": {},
     "output_type": "execute_result"
    }
   ],
   "source": [
    "from langchain_community.document_loaders import PyPDFLoader\n",
    "\n",
    "\n",
    "loader = PyPDFLoader(\"CreativeThinking.pdf\")\n",
    "pages = loader.load_and_split()\n",
    "#pages = loader.load()\n",
    "pages"
   ]
  },
  {
   "cell_type": "code",
   "execution_count": 25,
   "metadata": {
    "colab": {
     "base_uri": "https://localhost:8080/"
    },
    "id": "O3uihNd4gVVs",
    "outputId": "dc24a01e-a9ef-47fd-b7e8-d67419f1a4ad"
   },
   "outputs": [
    {
     "data": {
      "text/plain": [
       "[Document(metadata={'producer': 'Microsoft® Word LTSC', 'creator': 'Microsoft® Word LTSC', 'creationdate': '2025-10-11T09:27:35+03:30', 'author': 'GitiAI', 'moddate': '2025-10-11T09:27:35+03:30', 'source': 'CreativeThinking.pdf', 'total_pages': 3, 'page': 0, 'page_label': '1'}, page_content='تفکر خلاق و نقش آن در پیشرفت انسان \\nتفکر خلاق، یکی از ارزشمندترین تواناییهای ذهن انسان است؛ قابلیتی که باعث می شود ما بتوانیم از مرزهای عادی فکر کردن عبور کنیم و \\nراهحلهایی تازه برای مسائل پیدا کنیم. انسان از ابتدای تاریخ، به واسطه ی همین قدرت تفکر خلاق توانسته است ابزار بسازد، فناوری خلق کند، \\nو جهان پیرامون خود را دگرگون سازد . \\nاما خلاقیت تنها به هنرمندان یا مخترعان محدود نیست. در واقع، هر فردی در زندگی روزمره خود نیازمند تفکر خلاق است؛ از حل مشکلات  \\nشخصی گرفته تا تصمیمگیریهای کاری و اجتماعی. خلاقیت یعنی دیدن چیزها از زاویه ای متفاوت، شکستن عادتهای فکری و تصور چیزی \\nکه هنوز وجود ندارد. \\n \\nخلاقیت ذاتی است یا اکتسابی؟ \\nبسیاری از مردم تصور میکنند که خلاقیت فقط در وجود عدهای خاص نهفته است، اما پژوهش های روانشناسی نشان دادهاند که همه ی \\nانسانها از نوعی ظرفیت خلاق برخوردارند. تفاوت در این است که برخی افراد این توانایی را پرورش می دهند، در حالی که دیگران اجازه  \\nمیدهند عادتهای فکری روزمره آن را سرکوب کند. \\nتفکر خلاق مهارتی است که می توان آن را آموزش داد و تقویت کرد. مطالعه، تجربه ی موقعیتهای جدید، تعامل با افراد متفاوت، و حتی  \\nشکست خوردن در پروژه ها، همه باعث رشد خلاقیت میشوند. ذهن خلاق معمولاً از دل کنجکاوی و ریسکپذیری زاده میشود. \\n \\nموانع خلاقیت  \\nیکی از بزرگترین دشمنان خلاقیت، ترس از اشتباه است. بسیاری از افراد به دلیل نگرانی از قضاوت دیگران، ایدههای خود را بیان نمی کنند. در \\nحالی که بخش بزرگی از فرآیند خلاقیت، شامل آزمون و خطاست. ایدههای بزرگ معمولاً از دل شکست های متعدد بیرون می آیند. \\nعامل دیگر، محیط بسته و غیرانعطاف پذیر است. وقتی در محیطی کار یا زندگی میکنیم که در آن تفاوت نظرها پذیرفته نمیشود، ذهن به مرور  \\nحالت تدافعی میگیرد و از نوآوری دور میشود. برای شکوفایی خلاقیت، باید در فضایی بود که آزادی اندیشه و گفت وگو وجود داشته باشد. \\n \\nراهکارهای پرورش تفکر خلاق  \\n۱ .پرسیدن سؤال های جدید: به جای اینکه صرفاً پاسخها را حفظ کنیم، باید یاد بگیریم سؤالهای تازه مطرح کنیم. هر سؤال جدید \\nمیتواند دیدگاهی متفاوت ایجاد کند. \\n۲ .تجربهی مسیرهای ناآشنا: گاهی انجام کارهایی متفاوت، حتی ساده مثل رفتن از مسیر دیگر به محل کار، میتواند ذهن را فعالتر کند. \\n۳ .نوشتن ایده ها: ذهن انسان فرّار است. یادداشت کردن افکار باعث میشود ایدهها ماندگار شوند و بعدها قابل گسترش باشند.'),\n",
       " Document(metadata={'producer': 'Microsoft® Word LTSC', 'creator': 'Microsoft® Word LTSC', 'creationdate': '2025-10-11T09:27:35+03:30', 'author': 'GitiAI', 'moddate': '2025-10-11T09:27:35+03:30', 'source': 'CreativeThinking.pdf', 'total_pages': 3, 'page': 1, 'page_label': '2'}, page_content='۴ .الهام گرفتن از دیگران: مطالعه دربارهی زندگی نوآوران، هنرمندان و دانشمندان می تواند مسیر خلاقیت را هموارتر کند. \\n۵ .استراحت ذهنی: خلاقیت معمولاً در لحظاتی که ذهن آزاد است شکوفا میشود؛ مثل زمان پیادهروی یا قبل از خواب. \\n \\nخلاقیت در زندگی و کار  \\nدر دنیای امروز، خلاقیت یکی از مهمترین مهارتهای قرن بیستویکم محسوب میشود. شرکت ها و سازمانهای بزرگ به دنبال افرادی هستند \\nکه بتوانند فراتر از چارچوبها فکر کنند. \\nدر حوزهی کارآفرینی، تفکر خلاق پایهی اصلی نوآوری است؛ بسیاری از استارتاپهای موفق از ایدههایی آغاز شدهاند که در ابتدا ساده و حتی  \\nعجیب به نظر می رسیدند. \\nدر زندگی شخصی نیز، خلاقیت نقش پررنگی دارد. از طراحی دکور منزل گرفته تا حل تعارض های خانوادگی، ذهن خلاق می تواند راه هایی ارائه  \\nدهد که شاید در نگاه اول غیرممکن به نظر برسند. \\n \\nنتیجهگیری \\nتفکر خلاق نه فقط یک ویژگی ذهنی، بلکه یک شیوه ی زندگی است. انسانی که خلاق می اندیشد، در برابر مشکلات تسلیم نمیشود و همیشه  \\nبه دنبال راه های تازه میگردد. \\nخلاقیت یعنی ایمان به اینکه همیشه راهی هست—even اگر هنوز پیدایش نکرده باشیم. \\nبا پرورش خلاقیت، نه تنها میتوانیم کیفیت زندگی خود را ارتقا دهیم، بلکه سهمی در پیشرفت جامعه و آیندهی بهتر نیز داشته باشیم. \\nنقش آموزش در پرورش خلاقیت \\nنظامهای آموزشی سنتی معمولاً بر حفظ کردن مطالب و تکرار مفاهیم تأکید دارند، نه بر کشف و تجربه. این در حالی است که یکی از وظایف  \\nمهم آموزش، فراهم کردن بستر رشد تفکر خلاق در دانش آموزان و دانشجویان است. \\nوقتی معلم به جای پرسیدن پاسخ درست، از دانش آموز بخواهد چند پاسخ ممکن پیشنهاد دهد، ذهن او به تدریج از حالت بسته به حالت باز تغییر  \\nمیکند. \\nآموزش خلاق، یعنی تشویق به پرسش، به تخیل و به تجربه کردن—even اگر نتیجه دقیقاً همان چیزی نباشد که انتظار میرفت. \\nدانش آموزی که از کودکی میآموزد آزادانه فکر کند و نظرش را بیان کند، در بزرگسالی نیز اعتمادبه نفس بیشتری برای خلق ایده های جدید  \\nخواهد داشت. \\nبنابراین، اصلاح روش های آموزشی و تقویت روحیه ی خلاقیت در مدارس و دانشگاهها، یکی از مهمترین سرمایهگذاریهای هر جامعه است. \\n \\nخلاقیت و فناوری'),\n",
       " Document(metadata={'producer': 'Microsoft® Word LTSC', 'creator': 'Microsoft® Word LTSC', 'creationdate': '2025-10-11T09:27:35+03:30', 'author': 'GitiAI', 'moddate': '2025-10-11T09:27:35+03:30', 'source': 'CreativeThinking.pdf', 'total_pages': 3, 'page': 2, 'page_label': '3'}, page_content='پیشرفتهای شگرف دنیای فناوری، خود نتیجه ی تفکر خلاق بشر است؛ اما در عین حال، فناوری نیز میتواند زمینهساز رشد خلاقیت شود.  \\nابزارهای دیجیتال امروز، از هوش مصنوعی گرفته تا چاپ سه بعدی، امکاناتی فراهم کردهاند که پیش از این غیرقابل تصور بود. \\nبا این حال، استفاده ی صرف از فناوری به معنی خلاق بودن نیست. خلاقیت در نحوه ی به کارگیری آن است. کسی که بتواند از ابزارهای \\nدیجیتال برای حل مسائل واقعی یا خلق تجربه های جدید استفاده کند، در واقع جوهرهی تفکر خلاق را در خود پرورش داده است. \\nفناوری تنها زمانی ارزشمند است که در خدمت ایدههای نو و انسان محور باشد. \\n \\nخلاقیت در فرهنگ و جامعه \\nخلاقیت فقط در حوزه ی علم و فناوری معنا ندارد؛ در فرهنگ، هنر، روابط اجتماعی و حتی سیاست نیز نقش تعیینکنندهای دارد. \\nجامعهای که به تفاوت اندیشه ها احترام میگذارد، زمینه ی شکوفایی خلاقیت جمعی را فراهم می کند. در چنین جامعهای، مردم به جای تقلید،  \\nتشویق میشوند تا تجربه کنند، آزمایش کنند و مسیرهای تازهای بسازند. \\nفرهنگ خلاقیت محور، تحمل شکست را هم در خود دارد. جامعه ای که شکست را پایان راه نمی داند، بلکه آن را بخشی از مسیر رشد تلقی  \\nمیکند، زودتر به نوآوری های پایدار میرسد. \\n \\nجمع بندی نهایی \\nدر نهایت، تفکر خلاق جوهرهی انسانِ جستوجوگر است. بدون آن، تمدن بشری در همان نقطه ی نخستین متوقف میشد. \\nهر فردی در درون خود جرقهای از خلاقیت دارد؛ کافی است اجازه دهد این جرقه شعله ور شود. \\nدنیا به افرادی نیاز دارد که بتوانند با ذهنی باز، دنیایی بهتر را تصور و سپس آن را بسازند. \\nتفکر خلاق، پلی است میان رؤیا و واقعیت — پلی که عبور از آن،  نیازمند شهامت، تخیل و ایمان است .')]"
      ]
     },
     "execution_count": 25,
     "metadata": {},
     "output_type": "execute_result"
    }
   ],
   "source": [
    "from langchain.text_splitter import RecursiveCharacterTextSplitter\n",
    "\n",
    "text_splitter = RecursiveCharacterTextSplitter(chunk_size=1024, chunk_overlap=256)\n",
    "text_documents = text_splitter.split_documents(pages)[:5]\n",
    "\n",
    "pages"
   ]
  },
  {
   "cell_type": "code",
   "execution_count": 27,
   "metadata": {
    "colab": {
     "base_uri": "https://localhost:8080/"
    },
    "id": "Uc8_qHjygVVs",
    "outputId": "86876e7f-8154-436e-bb23-b2c25be58781"
   },
   "outputs": [
    {
     "name": "stderr",
     "output_type": "stream",
     "text": [
      "C:\\Users\\GitiAI\\anaconda3\\envs\\py310\\lib\\site-packages\\pydantic\\_migration.py:283: UserWarning: `pydantic.error_wrappers:ValidationError` has been moved to `pydantic:ValidationError`.\n",
      "  warnings.warn(f'`{import_path}` has been moved to `{new_location}`.')\n"
     ]
    }
   ],
   "source": [
    "from langchain_community.vectorstores import DocArrayInMemorySearch\n",
    "\n",
    "vectorstore = DocArrayInMemorySearch.from_documents(text_documents, embedding=embeddings)"
   ]
  },
  {
   "cell_type": "code",
   "execution_count": 32,
   "metadata": {
    "colab": {
     "base_uri": "https://localhost:8080/"
    },
    "id": "ZxpIUCH8gVVt",
    "outputId": "91d479d5-d5e7-4e2f-c787-c1046d1826d8"
   },
   "outputs": [
    {
     "name": "stderr",
     "output_type": "stream",
     "text": [
      "You seem to be using the pipelines sequentially on GPU. In order to maximize efficiency please use a dataset\n"
     ]
    },
    {
     "name": "stdout",
     "output_type": "stream",
     "text": [
      "Question: تفکر خلاق به چه معناست؟\n",
      "Answer: تفکر خلاق یعنی ایمان به اینکه همیشه راهی هست، حتی اگر هنوز پیدایش نکرده باشیم. \n",
      "\n",
      "\n",
      "Question: آیا خلاقیت ذاتی است یا می‌توان آن را یاد گرفت؟\n",
      "Answer: بسیاری از مردم تصور میکنند که خلاقیت فقط در وجود عده ای خاص نهفته است، اما پژوهش های روانشناسی نشان داده اند که همه ی انسانها از نوعی ظرفیت خلاق برخوردارند. تفاوت در این است که برخی افراد این توانایی را پرورش می دهند، در\n",
      "\n",
      "Question: یکی از موانع اصلی خلاقیت چیست؟\n",
      "Answer: یکی از بزرگترین دشمنان خلاقیت، ترس از اشتباه است. \n",
      "\n",
      "\n",
      "Question: چرا شکست در مسیر خلاقیت اهمیت دارد؟\n",
      "Answer: ایده‌های بزرگ معمولاً از دل شکست‌های متعدد بیرون می‌آیند. \n",
      "\n",
      "\n",
      "Question: نقش محیط در شکوفایی خلاقیت چیست؟\n",
      "Answer: یک محیط بسته و غیر انعطاف پذیر مانع از شکوفایی خلاقیت می‌شود. وقتی در فضایی کار یا زندگی می‌کنیم که در آن تفاوت نظرها پذیرفته نمی‌شود، ذهن به مرور حالت تدافعی می‌گیرد و از نوآوری دور می‌شود. برای شکوفایی خلاقیت،\n",
      "\n",
      "Question: چند روش برای پرورش تفکر خلاق نام ببر.\n",
      "Answer: در اینجا چند روش برای پرورش تفکر خلاق آورده شده است:\n",
      "\n",
      "* پرسیدن سؤال های جدید\n",
      "* تجربه ی مسیرهای ناآشنا\n",
      "* نوشتن ایده ها\n",
      "* الهام گرفتن از دیگران\n",
      "* استراحت ذهنی \n",
      "\n",
      "\n",
      "Question: چرا خلاقیت در دنیای کار امروز اهمیت دارد؟\n",
      "Answer: در دنیای امروز، شرکت ها و سازمانهای بزرگ به دنبال افرادی هستند که بتوانند فراتر از چارچوبها فکر کنند. در حوزه‌ی کارآفرینی، تفکر خلاق پایهی اصلی نوآوری است. \n",
      "\n",
      "\n",
      "Question: نقش نظام آموزشی در پرورش خلاقیت چیست؟\n",
      "Answer: نظامهای آموزشی سنتی معمولاً بر حفظ کردن مطالب و تکرار مفاهیم تأکید دارند، نه بر کشف و تجربه. در حالی که یکی از وظایف مهم آموزش، فراهم کردن بستر رشد تفکر خلاق در دانش آموزان و دانشجویان است.  \n",
      "\n",
      "\n",
      "\n",
      "Question: رابطه‌ی خلاقیت و فناوری چگونه است؟\n",
      "Answer: انسان از ابتدای تاریخ، به واسطه ی همین قدرت تفکر خلاق توانسته است ابزار بسازد، فناوری خلق کند، و جهان پیرامون خود را دگرگون سازد.  \n",
      "\n",
      "\n",
      "Question: جامعه‌ی خلاق چه ویژگی‌هایی دارد؟\n",
      "Answer: انسان خلاق در برابر مشکلات تسلیم نمیشود و همیشه به دنبال راه های تازه میگردد و به این باور دارد که همیشه راهی هست.  \n",
      "\n",
      "\n"
     ]
    }
   ],
   "source": [
    "questions = [\n",
    "    \"تفکر خلاق به چه معناست؟\",\n",
    "    \"آیا خلاقیت ذاتی است یا می‌توان آن را یاد گرفت؟\",\n",
    "    \"یکی از موانع اصلی خلاقیت چیست؟\",\n",
    "    \"چرا شکست در مسیر خلاقیت اهمیت دارد؟\",\n",
    "    \"نقش محیط در شکوفایی خلاقیت چیست؟\",\n",
    "    \"چند روش برای پرورش تفکر خلاق نام ببر.\",\n",
    "    \"چرا خلاقیت در دنیای کار امروز اهمیت دارد؟\",\n",
    "    \"نقش نظام آموزشی در پرورش خلاقیت چیست؟\",\n",
    "    \"رابطه‌ی خلاقیت و فناوری چگونه است؟\",\n",
    "    \"جامعه‌ی خلاق چه ویژگی‌هایی دارد؟\"\n",
    "]\n",
    "\n",
    "retriever = vectorstore.as_retriever()\n",
    "\n",
    "for question in questions:\n",
    "    retrieved_context = retriever.invoke(question)\n",
    "    formatted_prompt = prompt.format(context=retrieved_context, question=question)\n",
    "    response_from_model = apply_chat_template_and_response(formatted_prompt)\n",
    "    parsed_response = parser.parse(response_from_model)\n",
    "\n",
    "    print(f\"Question: {question}\")\n",
    "    print(f\"Answer: {parsed_response}\")\n",
    "    print()"
   ]
  },
  {
   "cell_type": "code",
   "execution_count": 33,
   "metadata": {
    "colab": {
     "base_uri": "https://localhost:8080/"
    },
    "id": "PcIYWAGcgVVt",
    "outputId": "8e8c0baf-6eaa-40a3-a3f3-5febf4744ce1"
   },
   "outputs": [
    {
     "name": "stdout",
     "output_type": "stream",
     "text": [
      "Say 'exit' or 'quit' to exit the loop\n"
     ]
    },
    {
     "name": "stdin",
     "output_type": "stream",
     "text": [
      "User question:  سلام\n"
     ]
    },
    {
     "name": "stdout",
     "output_type": "stream",
     "text": [
      "Question: سلام\n",
      "Answer: سلام \n",
      "\n",
      "\n",
      "Say 'exit' or 'quit' to exit the loop\n"
     ]
    },
    {
     "name": "stdin",
     "output_type": "stream",
     "text": [
      "User question:  بر اساس متن، تفکر خلاق چه نقشی در زندگی فردی و شغلی انسان دارد؟\n"
     ]
    },
    {
     "name": "stdout",
     "output_type": "stream",
     "text": [
      "Question: بر اساس متن، تفکر خلاق چه نقشی در زندگی فردی و شغلی انسان دارد؟\n",
      "Answer: خلاقیت در زندگی و کار، یکی از مهمترین مهارتهای قرن بیست و یکم محسوب می شود. شرکت ها و سازمانهای بزرگ به دنبال افرادی هستند که بتوانند فراتر از چارچوبها فکر کنند. در حوزهی کارآفرینی، تفکر خلاق پایهی\n",
      "\n",
      "Say 'exit' or 'quit' to exit the loop\n"
     ]
    },
    {
     "name": "stdin",
     "output_type": "stream",
     "text": [
      "User question:  قرمه سبزی چطوری پخته می شه؟\n"
     ]
    },
    {
     "name": "stdout",
     "output_type": "stream",
     "text": [
      "Question: قرمه سبزی چطوری پخته می شه؟\n",
      "Answer: متاسفانه اطلاعاتی در این مورد ندارم. \n",
      "\n",
      "\n",
      "Say 'exit' or 'quit' to exit the loop\n"
     ]
    },
    {
     "name": "stdin",
     "output_type": "stream",
     "text": [
      "User question:  exit\n"
     ]
    },
    {
     "name": "stdout",
     "output_type": "stream",
     "text": [
      "Question: exit\n",
      "Exiting the conversation. Goodbye!\n"
     ]
    }
   ],
   "source": [
    "while True:\n",
    "    print(\"Say 'exit' or 'quit' to exit the loop\")\n",
    "    question = input('User question: ')\n",
    "    print(f\"Question: {question}\")\n",
    "    if question.lower() in [\"exit\", \"quit\"]:\n",
    "        print(\"Exiting the conversation. Goodbye!\")\n",
    "        break\n",
    "    formatted_prompt = prompt.format(context=retrieved_context, question=question)\n",
    "    response_from_model = apply_chat_template_and_response(formatted_prompt)\n",
    "    parsed_response = parser.parse(response_from_model)\n",
    "    print(f\"Answer: {parsed_response}\")\n",
    "    print()"
   ]
  },
  {
   "cell_type": "code",
   "execution_count": 34,
   "metadata": {},
   "outputs": [
    {
     "data": {
      "application/vnd.jupyter.widget-view+json": {
       "model_id": "1bd6f841ccdb45f5baba87ac9dfcad83",
       "version_major": 2,
       "version_minor": 0
      },
      "text/plain": [
       "modules.json:   0%|          | 0.00/387 [00:00<?, ?B/s]"
      ]
     },
     "metadata": {},
     "output_type": "display_data"
    },
    {
     "name": "stderr",
     "output_type": "stream",
     "text": [
      "C:\\Users\\GitiAI\\anaconda3\\envs\\py310\\lib\\site-packages\\huggingface_hub\\file_download.py:143: UserWarning: `huggingface_hub` cache-system uses symlinks by default to efficiently store duplicated files but your machine does not support them in C:\\Users\\GitiAI\\.cache\\huggingface\\hub\\models--intfloat--multilingual-e5-base. Caching files will still work but in a degraded version that might require more space on your disk. This warning can be disabled by setting the `HF_HUB_DISABLE_SYMLINKS_WARNING` environment variable. For more details, see https://huggingface.co/docs/huggingface_hub/how-to-cache#limitations.\n",
      "To support symlinks on Windows, you either need to activate Developer Mode or to run Python as an administrator. In order to activate developer mode, see this article: https://docs.microsoft.com/en-us/windows/apps/get-started/enable-your-device-for-development\n",
      "  warnings.warn(message)\n"
     ]
    },
    {
     "data": {
      "application/vnd.jupyter.widget-view+json": {
       "model_id": "9a91dcf561e049c08801b01af5fbc00f",
       "version_major": 2,
       "version_minor": 0
      },
      "text/plain": [
       "README.md: 0.00B [00:00, ?B/s]"
      ]
     },
     "metadata": {},
     "output_type": "display_data"
    },
    {
     "data": {
      "application/vnd.jupyter.widget-view+json": {
       "model_id": "ac96c620fafc416491a6587a0cd08fe0",
       "version_major": 2,
       "version_minor": 0
      },
      "text/plain": [
       "sentence_bert_config.json:   0%|          | 0.00/57.0 [00:00<?, ?B/s]"
      ]
     },
     "metadata": {},
     "output_type": "display_data"
    },
    {
     "data": {
      "application/vnd.jupyter.widget-view+json": {
       "model_id": "1b80c5b1db2a47288422a5bc602ddc00",
       "version_major": 2,
       "version_minor": 0
      },
      "text/plain": [
       "config.json:   0%|          | 0.00/694 [00:00<?, ?B/s]"
      ]
     },
     "metadata": {},
     "output_type": "display_data"
    },
    {
     "name": "stderr",
     "output_type": "stream",
     "text": [
      "Xet Storage is enabled for this repo, but the 'hf_xet' package is not installed. Falling back to regular HTTP download. For better performance, install the package with: `pip install huggingface_hub[hf_xet]` or `pip install hf_xet`\n"
     ]
    },
    {
     "data": {
      "application/vnd.jupyter.widget-view+json": {
       "model_id": "bf846198088b48098a08d0be3fa4b628",
       "version_major": 2,
       "version_minor": 0
      },
      "text/plain": [
       "model.safetensors:   0%|          | 0.00/1.11G [00:00<?, ?B/s]"
      ]
     },
     "metadata": {},
     "output_type": "display_data"
    },
    {
     "data": {
      "application/vnd.jupyter.widget-view+json": {
       "model_id": "5cb3108708e948d8948d844532a84994",
       "version_major": 2,
       "version_minor": 0
      },
      "text/plain": [
       "tokenizer_config.json:   0%|          | 0.00/418 [00:00<?, ?B/s]"
      ]
     },
     "metadata": {},
     "output_type": "display_data"
    },
    {
     "name": "stderr",
     "output_type": "stream",
     "text": [
      "Xet Storage is enabled for this repo, but the 'hf_xet' package is not installed. Falling back to regular HTTP download. For better performance, install the package with: `pip install huggingface_hub[hf_xet]` or `pip install hf_xet`\n"
     ]
    },
    {
     "data": {
      "application/vnd.jupyter.widget-view+json": {
       "model_id": "04f9d639596e4443a0b9d0b155669671",
       "version_major": 2,
       "version_minor": 0
      },
      "text/plain": [
       "sentencepiece.bpe.model:   0%|          | 0.00/5.07M [00:00<?, ?B/s]"
      ]
     },
     "metadata": {},
     "output_type": "display_data"
    },
    {
     "name": "stderr",
     "output_type": "stream",
     "text": [
      "Xet Storage is enabled for this repo, but the 'hf_xet' package is not installed. Falling back to regular HTTP download. For better performance, install the package with: `pip install huggingface_hub[hf_xet]` or `pip install hf_xet`\n"
     ]
    },
    {
     "data": {
      "application/vnd.jupyter.widget-view+json": {
       "model_id": "b6f3c302463b4281abed7533a4a94a51",
       "version_major": 2,
       "version_minor": 0
      },
      "text/plain": [
       "tokenizer.json:   0%|          | 0.00/17.1M [00:00<?, ?B/s]"
      ]
     },
     "metadata": {},
     "output_type": "display_data"
    },
    {
     "data": {
      "application/vnd.jupyter.widget-view+json": {
       "model_id": "ce60e200971840cbb5dc771ef7b036c2",
       "version_major": 2,
       "version_minor": 0
      },
      "text/plain": [
       "special_tokens_map.json:   0%|          | 0.00/280 [00:00<?, ?B/s]"
      ]
     },
     "metadata": {},
     "output_type": "display_data"
    },
    {
     "data": {
      "application/vnd.jupyter.widget-view+json": {
       "model_id": "7c775099b422432f8a0f9363cf40d0a4",
       "version_major": 2,
       "version_minor": 0
      },
      "text/plain": [
       "config.json:   0%|          | 0.00/200 [00:00<?, ?B/s]"
      ]
     },
     "metadata": {},
     "output_type": "display_data"
    }
   ],
   "source": [
    "embeddings2 = HuggingFaceEmbeddings(model_name=\"intfloat/multilingual-e5-base\")\n",
    "\n",
    "vectorstore2 = DocArrayInMemorySearch.from_documents(text_documents, embedding=embeddings2)\n"
   ]
  },
  {
   "cell_type": "code",
   "execution_count": 36,
   "metadata": {},
   "outputs": [
    {
     "name": "stdout",
     "output_type": "stream",
     "text": [
      "Question: تفکر خلاق به چه معناست؟\n",
      "Answer: تفکر خلاق یعنی ایمان به اینکه همیشه راهی است  —even اگر هنوز پیدایش نکرده باشیم. \n",
      "\n",
      "\n",
      "Question: آیا خلاقیت ذاتی است یا می‌توان آن را یاد گرفت؟\n",
      "Answer: خلاقیت ذاتی است، اما می توان آن را یاد گرفت و پرورش داد. \n",
      "\n",
      "\n",
      "Question: یکی از موانع اصلی خلاقیت چیست؟\n",
      "Answer: یکی از بزرگترین دشمنان خلاقیت، ترس از اشتباه است.  \n",
      "\n",
      "\n",
      "Question: چرا شکست در مسیر خلاقیت اهمیت دارد؟\n",
      "Answer: ایده های بزرگ معمولا از دل شکست های متعدد بیرون می آیند. \n",
      "\n",
      "\n",
      "Question: نقش محیط در شکوفایی خلاقیت چیست؟\n",
      "Answer: برای شکوفایی خلاقیت، باید در فضایی بود که آزادی اندیشه و گفت وگو وجود داشته باشد. وقتی در محیطی کار یا زندگی میکنیم که در آن تفاوت نظرها پذیرفته نمیشود، ذهن به مرور حالت تدافعی میگیرد و از نوآوری دور میشود. \n",
      "\n",
      "\n",
      "\n",
      "\n",
      "Question: چند روش برای پرورش تفکر خلاق نام ببر.\n",
      "Answer: در این متن چند روش برای پرورش تفکر خلاق پیشنهاد شده است:\n",
      "\n",
      "* پرسیدن سئوال های جدید \n",
      "* تجربه کردن مسیرهای ناآشنا \n",
      "* نوشتن ایده ها\n",
      "* الهام گرفتن از دیگران\n",
      "* استراحت ذهنی \n",
      "\n",
      "\n",
      "Question: چرا خلاقیت در دنیای کار امروز اهمیت دارد؟\n",
      "Answer: شرکت ها و سازمانهای بزرگ به دنبال افرادی هستند که بتوانند فراتر از چارچوبها فکر کنند. در حوزهی کارآفرینی، تفکر خلاق پایهی اصلی نوآوری است. \n",
      "\n",
      "\n",
      "Question: نقش نظام آموزشی در پرورش خلاقیت چیست؟\n",
      "Answer: نظامهای آموزشی سنتی معمولاً بر حفظ کردن مطالب و تکرار مفاهیم تأکید دارند، نه بر کشف و تجربه. در حالی که یکی از وظایف مهم آموزش، فراهم کردن بستر رشد تفکر خلاق در دانش آموزان و دانشجویان است. \n",
      "\n",
      "\n",
      "Question: رابطه‌ی خلاقیت و فناوری چگونه است؟\n",
      "Answer: انسان از ابتدای تاریخ، به واسطه ی همین قدرت تفکر خلاق توانسته است ابزار بسازد، فناوری خلق کند، و جهان پیرامون خود را دگرگون سازد. \n",
      "\n",
      "\n"
     ]
    }
   ],
   "source": [
    "questions = [\n",
    "    \"تفکر خلاق به چه معناست؟\",\n",
    "    \"آیا خلاقیت ذاتی است یا می‌توان آن را یاد گرفت؟\",\n",
    "    \"یکی از موانع اصلی خلاقیت چیست؟\",\n",
    "    \"چرا شکست در مسیر خلاقیت اهمیت دارد؟\",\n",
    "    \"نقش محیط در شکوفایی خلاقیت چیست؟\",\n",
    "    \"چند روش برای پرورش تفکر خلاق نام ببر.\",\n",
    "    \"چرا خلاقیت در دنیای کار امروز اهمیت دارد؟\",\n",
    "    \"نقش نظام آموزشی در پرورش خلاقیت چیست؟\",\n",
    "    \"رابطه‌ی خلاقیت و فناوری چگونه است؟\",\n",
    "    \"جامعه‌ی خلاق چه ویژگی‌هایی دارد؟\"\n",
    "]\n",
    "\n",
    "retriever2 = vectorstore2.as_retriever()\n",
    "\n",
    "for question in questions:\n",
    "    retrieved_context = retriever2.invoke(question)\n",
    "    formatted_prompt = prompt.format(context=retrieved_context, question=question)\n",
    "    response_from_model = apply_chat_template_and_response(formatted_prompt)\n",
    "    parsed_response = parser.parse(response_from_model)\n",
    "\n",
    "    print(f\"Question: {question}\")\n",
    "    print(f\"Answer: {parsed_response}\")\n",
    "    print()"
   ]
  },
  {
   "cell_type": "code",
   "execution_count": 37,
   "metadata": {},
   "outputs": [
    {
     "name": "stdout",
     "output_type": "stream",
     "text": [
      "Say 'exit' or 'quit' to exit the loop\n"
     ]
    },
    {
     "name": "stdin",
     "output_type": "stream",
     "text": [
      "User question:  سلام\n"
     ]
    },
    {
     "name": "stdout",
     "output_type": "stream",
     "text": [
      "Question: سلام\n",
      "Answer: سلام \n",
      "\n",
      "\n",
      "Say 'exit' or 'quit' to exit the loop\n"
     ]
    },
    {
     "name": "stdin",
     "output_type": "stream",
     "text": [
      "User question:  بر اساس متن، تفکر خلاق چه نقشی در زندگی فردی و شغلی انسان دارد؟\n"
     ]
    },
    {
     "name": "stdout",
     "output_type": "stream",
     "text": [
      "Question: بر اساس متن، تفکر خلاق چه نقشی در زندگی فردی و شغلی انسان دارد؟\n",
      "Answer: در دنیای امروز، خلاقیت یکی از مهمترین مهارتهای قرن بیست و یکم محسوب میشود. شرکت ها و سازمانهای بزرگ به دنبال افرادی هستند که بتوانند فراتر از چارچوبها فکر کنند. در حوزهی کارآفرینی، تفکر خلاق پایهی اصلی\n",
      "\n",
      "Say 'exit' or 'quit' to exit the loop\n"
     ]
    },
    {
     "name": "stdin",
     "output_type": "stream",
     "text": [
      "User question:  قرمه سبزی چطوری پخته می شه؟\n"
     ]
    },
    {
     "name": "stdout",
     "output_type": "stream",
     "text": [
      "Question: قرمه سبزی چطوری پخته می شه؟\n",
      "Answer: متاسفانه اطلاعاتی در این مورد ندارم. \n",
      "\n",
      "\n",
      "Say 'exit' or 'quit' to exit the loop\n"
     ]
    },
    {
     "name": "stdin",
     "output_type": "stream",
     "text": [
      "User question:  exit\n"
     ]
    },
    {
     "name": "stdout",
     "output_type": "stream",
     "text": [
      "Question: exit\n",
      "Exiting the conversation. Goodbye!\n"
     ]
    }
   ],
   "source": [
    "while True:\n",
    "    print(\"Say 'exit' or 'quit' to exit the loop\")\n",
    "    question = input('User question: ')\n",
    "    print(f\"Question: {question}\")\n",
    "    if question.lower() in [\"exit\", \"quit\"]:\n",
    "        print(\"Exiting the conversation. Goodbye!\")\n",
    "        break\n",
    "    formatted_prompt = prompt.format(context=retrieved_context, question=question)\n",
    "    response_from_model = apply_chat_template_and_response(formatted_prompt)\n",
    "    parsed_response = parser.parse(response_from_model)\n",
    "    print(f\"Answer: {parsed_response}\")\n",
    "    print()"
   ]
  },
  {
   "cell_type": "code",
   "execution_count": null,
   "metadata": {},
   "outputs": [],
   "source": []
  }
 ],
 "metadata": {
  "accelerator": "GPU",
  "colab": {
   "gpuType": "T4",
   "provenance": []
  },
  "kernelspec": {
   "display_name": "Python 3.10",
   "language": "python",
   "name": "py310"
  },
  "language_info": {
   "codemirror_mode": {
    "name": "ipython",
    "version": 3
   },
   "file_extension": ".py",
   "mimetype": "text/x-python",
   "name": "python",
   "nbconvert_exporter": "python",
   "pygments_lexer": "ipython3",
   "version": "3.10.18"
  },
  "widgets": {
   "application/vnd.jupyter.widget-state+json": {
    "30ef5cfd95c74b3d8d59407435ec67dc": {
     "model_module": "@jupyter-widgets/controls",
     "model_module_version": "1.5.0",
     "model_name": "FloatProgressModel",
     "state": {
      "_dom_classes": [],
      "_model_module": "@jupyter-widgets/controls",
      "_model_module_version": "1.5.0",
      "_model_name": "FloatProgressModel",
      "_view_count": null,
      "_view_module": "@jupyter-widgets/controls",
      "_view_module_version": "1.5.0",
      "_view_name": "ProgressView",
      "bar_style": "success",
      "description": "",
      "description_tooltip": null,
      "layout": "IPY_MODEL_898253d5f3ee449ba16dd3d00f8e8434",
      "max": 4,
      "min": 0,
      "orientation": "horizontal",
      "style": "IPY_MODEL_be289233c9604a36b5bb3c42c46dbe79",
      "value": 4
     }
    },
    "35b191fd3b85405e91a60c9472ebd215": {
     "model_module": "@jupyter-widgets/controls",
     "model_module_version": "1.5.0",
     "model_name": "HBoxModel",
     "state": {
      "_dom_classes": [],
      "_model_module": "@jupyter-widgets/controls",
      "_model_module_version": "1.5.0",
      "_model_name": "HBoxModel",
      "_view_count": null,
      "_view_module": "@jupyter-widgets/controls",
      "_view_module_version": "1.5.0",
      "_view_name": "HBoxView",
      "box_style": "",
      "children": [
       "IPY_MODEL_50135fc29dee4733a545414bbf193be2",
       "IPY_MODEL_30ef5cfd95c74b3d8d59407435ec67dc",
       "IPY_MODEL_8e125145224a4a409ffaaa7db074fc34"
      ],
      "layout": "IPY_MODEL_56954f3d493f4b1983120826f01f4a23"
     }
    },
    "45a923d3bf644244aa236bcda810991b": {
     "model_module": "@jupyter-widgets/base",
     "model_module_version": "1.2.0",
     "model_name": "LayoutModel",
     "state": {
      "_model_module": "@jupyter-widgets/base",
      "_model_module_version": "1.2.0",
      "_model_name": "LayoutModel",
      "_view_count": null,
      "_view_module": "@jupyter-widgets/base",
      "_view_module_version": "1.2.0",
      "_view_name": "LayoutView",
      "align_content": null,
      "align_items": null,
      "align_self": null,
      "border": null,
      "bottom": null,
      "display": null,
      "flex": null,
      "flex_flow": null,
      "grid_area": null,
      "grid_auto_columns": null,
      "grid_auto_flow": null,
      "grid_auto_rows": null,
      "grid_column": null,
      "grid_gap": null,
      "grid_row": null,
      "grid_template_areas": null,
      "grid_template_columns": null,
      "grid_template_rows": null,
      "height": null,
      "justify_content": null,
      "justify_items": null,
      "left": null,
      "margin": null,
      "max_height": null,
      "max_width": null,
      "min_height": null,
      "min_width": null,
      "object_fit": null,
      "object_position": null,
      "order": null,
      "overflow": null,
      "overflow_x": null,
      "overflow_y": null,
      "padding": null,
      "right": null,
      "top": null,
      "visibility": null,
      "width": null
     }
    },
    "50135fc29dee4733a545414bbf193be2": {
     "model_module": "@jupyter-widgets/controls",
     "model_module_version": "1.5.0",
     "model_name": "HTMLModel",
     "state": {
      "_dom_classes": [],
      "_model_module": "@jupyter-widgets/controls",
      "_model_module_version": "1.5.0",
      "_model_name": "HTMLModel",
      "_view_count": null,
      "_view_module": "@jupyter-widgets/controls",
      "_view_module_version": "1.5.0",
      "_view_name": "HTMLView",
      "description": "",
      "description_tooltip": null,
      "layout": "IPY_MODEL_45a923d3bf644244aa236bcda810991b",
      "placeholder": "​",
      "style": "IPY_MODEL_a6c35e578064434c8f700611832f5a45",
      "value": "Loading checkpoint shards: 100%"
     }
    },
    "56954f3d493f4b1983120826f01f4a23": {
     "model_module": "@jupyter-widgets/base",
     "model_module_version": "1.2.0",
     "model_name": "LayoutModel",
     "state": {
      "_model_module": "@jupyter-widgets/base",
      "_model_module_version": "1.2.0",
      "_model_name": "LayoutModel",
      "_view_count": null,
      "_view_module": "@jupyter-widgets/base",
      "_view_module_version": "1.2.0",
      "_view_name": "LayoutView",
      "align_content": null,
      "align_items": null,
      "align_self": null,
      "border": null,
      "bottom": null,
      "display": null,
      "flex": null,
      "flex_flow": null,
      "grid_area": null,
      "grid_auto_columns": null,
      "grid_auto_flow": null,
      "grid_auto_rows": null,
      "grid_column": null,
      "grid_gap": null,
      "grid_row": null,
      "grid_template_areas": null,
      "grid_template_columns": null,
      "grid_template_rows": null,
      "height": null,
      "justify_content": null,
      "justify_items": null,
      "left": null,
      "margin": null,
      "max_height": null,
      "max_width": null,
      "min_height": null,
      "min_width": null,
      "object_fit": null,
      "object_position": null,
      "order": null,
      "overflow": null,
      "overflow_x": null,
      "overflow_y": null,
      "padding": null,
      "right": null,
      "top": null,
      "visibility": null,
      "width": null
     }
    },
    "573aedbe53be4c218ed71c7129dce25b": {
     "model_module": "@jupyter-widgets/base",
     "model_module_version": "1.2.0",
     "model_name": "LayoutModel",
     "state": {
      "_model_module": "@jupyter-widgets/base",
      "_model_module_version": "1.2.0",
      "_model_name": "LayoutModel",
      "_view_count": null,
      "_view_module": "@jupyter-widgets/base",
      "_view_module_version": "1.2.0",
      "_view_name": "LayoutView",
      "align_content": null,
      "align_items": null,
      "align_self": null,
      "border": null,
      "bottom": null,
      "display": null,
      "flex": null,
      "flex_flow": null,
      "grid_area": null,
      "grid_auto_columns": null,
      "grid_auto_flow": null,
      "grid_auto_rows": null,
      "grid_column": null,
      "grid_gap": null,
      "grid_row": null,
      "grid_template_areas": null,
      "grid_template_columns": null,
      "grid_template_rows": null,
      "height": null,
      "justify_content": null,
      "justify_items": null,
      "left": null,
      "margin": null,
      "max_height": null,
      "max_width": null,
      "min_height": null,
      "min_width": null,
      "object_fit": null,
      "object_position": null,
      "order": null,
      "overflow": null,
      "overflow_x": null,
      "overflow_y": null,
      "padding": null,
      "right": null,
      "top": null,
      "visibility": null,
      "width": null
     }
    },
    "898253d5f3ee449ba16dd3d00f8e8434": {
     "model_module": "@jupyter-widgets/base",
     "model_module_version": "1.2.0",
     "model_name": "LayoutModel",
     "state": {
      "_model_module": "@jupyter-widgets/base",
      "_model_module_version": "1.2.0",
      "_model_name": "LayoutModel",
      "_view_count": null,
      "_view_module": "@jupyter-widgets/base",
      "_view_module_version": "1.2.0",
      "_view_name": "LayoutView",
      "align_content": null,
      "align_items": null,
      "align_self": null,
      "border": null,
      "bottom": null,
      "display": null,
      "flex": null,
      "flex_flow": null,
      "grid_area": null,
      "grid_auto_columns": null,
      "grid_auto_flow": null,
      "grid_auto_rows": null,
      "grid_column": null,
      "grid_gap": null,
      "grid_row": null,
      "grid_template_areas": null,
      "grid_template_columns": null,
      "grid_template_rows": null,
      "height": null,
      "justify_content": null,
      "justify_items": null,
      "left": null,
      "margin": null,
      "max_height": null,
      "max_width": null,
      "min_height": null,
      "min_width": null,
      "object_fit": null,
      "object_position": null,
      "order": null,
      "overflow": null,
      "overflow_x": null,
      "overflow_y": null,
      "padding": null,
      "right": null,
      "top": null,
      "visibility": null,
      "width": null
     }
    },
    "8e125145224a4a409ffaaa7db074fc34": {
     "model_module": "@jupyter-widgets/controls",
     "model_module_version": "1.5.0",
     "model_name": "HTMLModel",
     "state": {
      "_dom_classes": [],
      "_model_module": "@jupyter-widgets/controls",
      "_model_module_version": "1.5.0",
      "_model_name": "HTMLModel",
      "_view_count": null,
      "_view_module": "@jupyter-widgets/controls",
      "_view_module_version": "1.5.0",
      "_view_name": "HTMLView",
      "description": "",
      "description_tooltip": null,
      "layout": "IPY_MODEL_573aedbe53be4c218ed71c7129dce25b",
      "placeholder": "​",
      "style": "IPY_MODEL_de7d2205a2044c4bacc80111b0c9c75c",
      "value": " 4/4 [01:55&lt;00:00, 28.10s/it]"
     }
    },
    "a6c35e578064434c8f700611832f5a45": {
     "model_module": "@jupyter-widgets/controls",
     "model_module_version": "1.5.0",
     "model_name": "DescriptionStyleModel",
     "state": {
      "_model_module": "@jupyter-widgets/controls",
      "_model_module_version": "1.5.0",
      "_model_name": "DescriptionStyleModel",
      "_view_count": null,
      "_view_module": "@jupyter-widgets/base",
      "_view_module_version": "1.2.0",
      "_view_name": "StyleView",
      "description_width": ""
     }
    },
    "be289233c9604a36b5bb3c42c46dbe79": {
     "model_module": "@jupyter-widgets/controls",
     "model_module_version": "1.5.0",
     "model_name": "ProgressStyleModel",
     "state": {
      "_model_module": "@jupyter-widgets/controls",
      "_model_module_version": "1.5.0",
      "_model_name": "ProgressStyleModel",
      "_view_count": null,
      "_view_module": "@jupyter-widgets/base",
      "_view_module_version": "1.2.0",
      "_view_name": "StyleView",
      "bar_color": null,
      "description_width": ""
     }
    },
    "de7d2205a2044c4bacc80111b0c9c75c": {
     "model_module": "@jupyter-widgets/controls",
     "model_module_version": "1.5.0",
     "model_name": "DescriptionStyleModel",
     "state": {
      "_model_module": "@jupyter-widgets/controls",
      "_model_module_version": "1.5.0",
      "_model_name": "DescriptionStyleModel",
      "_view_count": null,
      "_view_module": "@jupyter-widgets/base",
      "_view_module_version": "1.2.0",
      "_view_name": "StyleView",
      "description_width": ""
     }
    }
   }
  }
 },
 "nbformat": 4,
 "nbformat_minor": 4
}
